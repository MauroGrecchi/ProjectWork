{
 "cells": [
  {
   "cell_type": "code",
   "execution_count": 11,
   "metadata": {},
   "outputs": [],
   "source": [
    "import pandas as pd\n",
    "#import plotly.express as px\n",
    "import plotly.graph_objects as go"
   ]
  },
  {
   "cell_type": "code",
   "execution_count": 12,
   "metadata": {},
   "outputs": [
    {
     "data": {
      "text/html": [
       "<div>\n",
       "<style scoped>\n",
       "    .dataframe tbody tr th:only-of-type {\n",
       "        vertical-align: middle;\n",
       "    }\n",
       "\n",
       "    .dataframe tbody tr th {\n",
       "        vertical-align: top;\n",
       "    }\n",
       "\n",
       "    .dataframe thead th {\n",
       "        text-align: right;\n",
       "    }\n",
       "</style>\n",
       "<table border=\"1\" class=\"dataframe\">\n",
       "  <thead>\n",
       "    <tr style=\"text-align: right;\">\n",
       "      <th></th>\n",
       "      <th>id</th>\n",
       "      <th>denominazione</th>\n",
       "      <th>indirizzo</th>\n",
       "      <th>cap</th>\n",
       "      <th>frazione</th>\n",
       "      <th>comune_provincia</th>\n",
       "      <th>prov</th>\n",
       "      <th>sito_internet</th>\n",
       "      <th>mail</th>\n",
       "      <th>telefono</th>\n",
       "      <th>numero_posti_letto</th>\n",
       "      <th>periodo_apertura</th>\n",
       "      <th>lng</th>\n",
       "      <th>lat</th>\n",
       "      <th>location</th>\n",
       "      <th>:@computed_region_ttgh_9sm5</th>\n",
       "      <th>:@computed_region_af5v_nc64</th>\n",
       "      <th>:@computed_region_6hky_swhk</th>\n",
       "    </tr>\n",
       "  </thead>\n",
       "  <tbody>\n",
       "    <tr>\n",
       "      <th>0</th>\n",
       "      <td>1</td>\n",
       "      <td>CENTRAL HOSTEL BG</td>\n",
       "      <td>Via Ghislanzoni, 30</td>\n",
       "      <td>24122</td>\n",
       "      <td>NaN</td>\n",
       "      <td>BERGAMO</td>\n",
       "      <td>BG</td>\n",
       "      <td>http://www.centralhostelbg.com</td>\n",
       "      <td>staff@centralhostelbg.com</td>\n",
       "      <td>035/211359</td>\n",
       "      <td>82</td>\n",
       "      <td>365gg</td>\n",
       "      <td>9.669989</td>\n",
       "      <td>45.692418</td>\n",
       "      <td>(45.69241781, 9.66998856)</td>\n",
       "      <td>5</td>\n",
       "      <td>1</td>\n",
       "      <td>5</td>\n",
       "    </tr>\n",
       "    <tr>\n",
       "      <th>1</th>\n",
       "      <td>6</td>\n",
       "      <td>ANGOLO DA SCOPRIRE</td>\n",
       "      <td>Via Bregno, 1</td>\n",
       "      <td>25040</td>\n",
       "      <td>NaN</td>\n",
       "      <td>ANGOLO TERME</td>\n",
       "      <td>BS</td>\n",
       "      <td>http://www.angolodascoprire.it</td>\n",
       "      <td>info@angolodascoprire.it</td>\n",
       "      <td>339/7956313 328/9870389</td>\n",
       "      <td>55</td>\n",
       "      <td>365gg</td>\n",
       "      <td>10.147244</td>\n",
       "      <td>45.895790</td>\n",
       "      <td>(45.89579042, 10.14724351)</td>\n",
       "      <td>6</td>\n",
       "      <td>7</td>\n",
       "      <td>6</td>\n",
       "    </tr>\n",
       "    <tr>\n",
       "      <th>2</th>\n",
       "      <td>11</td>\n",
       "      <td>OSTELLO DELLA GIOVENTU'</td>\n",
       "      <td>Via Marconi, 28</td>\n",
       "      <td>25050</td>\n",
       "      <td>NaN</td>\n",
       "      <td>CIMBERGO</td>\n",
       "      <td>BS</td>\n",
       "      <td>http://www.ostellodibergamo.it</td>\n",
       "      <td>hostelbg@libero.it</td>\n",
       "      <td>035/361724</td>\n",
       "      <td>84</td>\n",
       "      <td>365gg</td>\n",
       "      <td>9.686237</td>\n",
       "      <td>45.718232</td>\n",
       "      <td>(45.71823212, 9.68623663)</td>\n",
       "      <td>5</td>\n",
       "      <td>1</td>\n",
       "      <td>5</td>\n",
       "    </tr>\n",
       "    <tr>\n",
       "      <th>3</th>\n",
       "      <td>57</td>\n",
       "      <td>OSTELLO SAN GIOVANNI BOSCO</td>\n",
       "      <td>via Modena, 4</td>\n",
       "      <td>27010</td>\n",
       "      <td>NaN</td>\n",
       "      <td>RONCARO</td>\n",
       "      <td>PV</td>\n",
       "      <td>http://www.hostellombardia.net</td>\n",
       "      <td>NaN</td>\n",
       "      <td>348/4803606</td>\n",
       "      <td>12</td>\n",
       "      <td>da 1/4 a 30/9</td>\n",
       "      <td>9.275257</td>\n",
       "      <td>45.229448</td>\n",
       "      <td>(45.229448, 9.275257)</td>\n",
       "      <td>7</td>\n",
       "      <td>6</td>\n",
       "      <td>7</td>\n",
       "    </tr>\n",
       "    <tr>\n",
       "      <th>4</th>\n",
       "      <td>43</td>\n",
       "      <td>OSTELLO BREDA</td>\n",
       "      <td>via Breda, 7</td>\n",
       "      <td>26036</td>\n",
       "      <td>NaN</td>\n",
       "      <td>RIVAROLO DEL RE</td>\n",
       "      <td>CR</td>\n",
       "      <td>http://www.ostellobreda.sitiwebs.com/</td>\n",
       "      <td>ostellobreda@mail.com</td>\n",
       "      <td>0338/4146293</td>\n",
       "      <td>17</td>\n",
       "      <td>365gg</td>\n",
       "      <td>10.484144</td>\n",
       "      <td>45.043734</td>\n",
       "      <td>(45.04373428, 10.48414385)</td>\n",
       "      <td>8</td>\n",
       "      <td>4</td>\n",
       "      <td>8</td>\n",
       "    </tr>\n",
       "  </tbody>\n",
       "</table>\n",
       "</div>"
      ],
      "text/plain": [
       "   id               denominazione            indirizzo    cap  frazione  \\\n",
       "0   1           CENTRAL HOSTEL BG  Via Ghislanzoni, 30  24122       NaN   \n",
       "1   6          ANGOLO DA SCOPRIRE        Via Bregno, 1  25040       NaN   \n",
       "2  11     OSTELLO DELLA GIOVENTU'      Via Marconi, 28  25050       NaN   \n",
       "3  57  OSTELLO SAN GIOVANNI BOSCO        via Modena, 4  27010       NaN   \n",
       "4  43               OSTELLO BREDA         via Breda, 7  26036       NaN   \n",
       "\n",
       "  comune_provincia prov                          sito_internet  \\\n",
       "0          BERGAMO   BG         http://www.centralhostelbg.com   \n",
       "1     ANGOLO TERME   BS         http://www.angolodascoprire.it   \n",
       "2         CIMBERGO   BS         http://www.ostellodibergamo.it   \n",
       "3          RONCARO   PV         http://www.hostellombardia.net   \n",
       "4  RIVAROLO DEL RE   CR  http://www.ostellobreda.sitiwebs.com/   \n",
       "\n",
       "                        mail                 telefono  numero_posti_letto  \\\n",
       "0  staff@centralhostelbg.com               035/211359                  82   \n",
       "1   info@angolodascoprire.it  339/7956313 328/9870389                  55   \n",
       "2         hostelbg@libero.it               035/361724                  84   \n",
       "3                        NaN              348/4803606                  12   \n",
       "4      ostellobreda@mail.com             0338/4146293                  17   \n",
       "\n",
       "  periodo_apertura        lng        lat                    location  \\\n",
       "0            365gg   9.669989  45.692418   (45.69241781, 9.66998856)   \n",
       "1            365gg  10.147244  45.895790  (45.89579042, 10.14724351)   \n",
       "2            365gg   9.686237  45.718232   (45.71823212, 9.68623663)   \n",
       "3    da 1/4 a 30/9   9.275257  45.229448       (45.229448, 9.275257)   \n",
       "4            365gg  10.484144  45.043734  (45.04373428, 10.48414385)   \n",
       "\n",
       "   :@computed_region_ttgh_9sm5  :@computed_region_af5v_nc64  \\\n",
       "0                            5                            1   \n",
       "1                            6                            7   \n",
       "2                            5                            1   \n",
       "3                            7                            6   \n",
       "4                            8                            4   \n",
       "\n",
       "   :@computed_region_6hky_swhk  \n",
       "0                            5  \n",
       "1                            6  \n",
       "2                            5  \n",
       "3                            7  \n",
       "4                            8  "
      ]
     },
     "execution_count": 12,
     "metadata": {},
     "output_type": "execute_result"
    }
   ],
   "source": [
    "df = pd.read_csv('https://www.dati.lombardia.it/resource/r9fb-4fm4.csv')\n",
    "df.head()\n"
   ]
  },
  {
   "cell_type": "code",
   "execution_count": 13,
   "metadata": {},
   "outputs": [
    {
     "data": {
      "application/vnd.plotly.v1+json": {
       "config": {
        "plotlyServerURL": "https://plot.ly"
       },
       "data": [
        {
         "lat": [
          45.69241781,
          45.89579042,
          45.71823212,
          45.229448,
          45.04373428,
          46.3179855,
          46.01726456,
          45.84842038,
          46.16088921,
          45.0577847,
          45.45817144,
          45.77658405,
          45.831348999999996,
          46.2238894,
          45.084265,
          45.80996711,
          46.2411338,
          45.974453000000004,
          45.19411109,
          45.11339093,
          45.17873414,
          45.80219116,
          46.009774,
          46.02900705,
          46.02285209,
          45.13780292,
          45.61032825,
          45.71823212,
          46.01381649,
          45.49044089,
          45.11300482,
          45.797415,
          45.46049737,
          44.986382,
          45.45134612,
          45.755466,
          44.97756479,
          45.82620399,
          45.98363361,
          45.79770509,
          46.07966811,
          45.20927566,
          45.675733,
          45.82604502,
          44.85945144,
          44.95397494,
          45.54163,
          45.453382,
          45.92408134,
          45.48363879,
          45.691233685,
          45.79078469,
          45.5901821,
          44.92298376,
          45.76051793,
          45.48453924,
          45.177495,
          45.940189200000006,
          46.036676,
          45.46819153,
          46.03035689,
          45.61426135,
          45.47547445,
          45.4480398,
          45.70218121,
          45.52976603,
          45.914279
         ],
         "lon": [
          9.66998856,
          10.14724351,
          9.68623663,
          9.275257,
          10.48414385,
          9.40196426,
          10.32598883,
          8.66659733,
          9.64081873,
          10.23251133,
          9.20489762,
          8.82101131,
          9.371482,
          10.205374,
          10.955838,
          10.06872765,
          10.40632448,
          10.081010000000001,
          9.51814597,
          9.34868396,
          10.68143887,
          9.36189552,
          10.155669,
          10.37112056,
          10.01519943,
          10.03163573,
          10.39838482,
          9.68623663,
          9.23655231,
          9.17134008,
          9.43819462,
          9.16762,
          9.1814944,
          9.00851623,
          9.21131556,
          9.691187,
          10.64282123,
          9.0491086,
          9.5351587,
          9.41452876,
          10.37044317,
          9.0186246,
          9.664381,
          9.53533182,
          9.31527885,
          10.82159449,
          10.219934,
          9.184457,
          9.972031800000002,
          9.14026188,
          9.846028302999999,
          9.08510896,
          9.28669585,
          10.524294900000001,
          10.74558601,
          9.16285043,
          9.151126,
          10.32402367,
          10.013453,
          9.15933654,
          9.99198603,
          9.02329996,
          9.19171014,
          9.88015776,
          9.37300485,
          9.17003112,
          8.617808
         ],
         "marker": {
          "color": "red"
         },
         "mode": "markers",
         "text": [
          "CENTRAL HOSTEL BG BG",
          "ANGOLO DA SCOPRIRE BS",
          "OSTELLO DELLA GIOVENTU' BS",
          "OSTELLO SAN GIOVANNI BOSCO PV",
          "OSTELLO BREDA CR",
          "OSTELLO AL DESERTO SO",
          "OSTELLO CONCARENA BS",
          "OSTELLO DI BESOZZO VA",
          "OSTELLO COI BAFFI SO",
          "OSTELLO LA CANONICA CR",
          "ZEBRA HOSTEL MI",
          "OSTELLO SACROMONTE VA",
          "OSTELLO PARCO MONTE BARRO LC",
          "IL SEICENTO SO",
          "OSTELLO DEI CONCARI MN",
          "OSTELLO DEL PORTO BG",
          "CASA DEL PARCO DELL'ADAMELLO BS",
          "OSTELLO 4 MATTE BG",
          "OSTELLO DI BORGHETTO LO",
          "OSTELLO ARTEMISTA PV",
          "OSTELLO DEL MINCIO MN",
          "OSTELLO RESIDENZA MOLINATTO LC",
          "OLIMPIC HOSTEL BG",
          "OSTELLO DEL PITTORE BS",
          "OSTELLO LA POSTA BG",
          "L'ARCHETTO CR",
          "OSTELLO ALLA SORGENTE BS",
          "OSTELLO DELLA GIOVENTU' BG",
          "OSTELLO LA PRIMULA CO",
          "NEW MOON RESORT MI",
          "OSTELLO IL MORONE PV",
          "OSTELLO DI ALBESE CO",
          "OSTELLO BELLO MI",
          "OSTELLO DELLA GIOVENTU' ADOLESCERE PV",
          "OSTELLO CUCCAGNA MI",
          "OSTELLO OLERA BG",
          "OSTELLO ORIZZONTI VERDI MN",
          "OSTELLO VILLA OLMO CO",
          "OSTELLO RIFUGIO TRIFOGLIO BG",
          "OSTELLO SAN MARTINO LC",
          "OSTELLO CASA DEL PARCO BS",
          "OSTELLO CASCINA VENARA PV",
          "SAN SISTO HOSTEL BG",
          "OSTELLO IL SENTIERO BG",
          "LA PENICINA PV",
          "OSTELLO CA'MALEONTE MN",
          "LOCANDA DEGLI ACROBATI BS",
          "OSTELLO BURIGOZZO11 MI",
          "OSTELLO BAITA VALLE AZZURRA BG",
          "OSTELLO AIG PIERO ROTTA MI",
          "OSTELLO DELLE TRE CORONE BG",
          "OSTELLO RESPAU' CO",
          "OSTELLO S. MARIA DELLE GRAZIE MB",
          "OSTELLO BORTOLINO MN",
          "UNIVERSITA' DELLA VELA BS",
          "GOGOL OSTELLO MI",
          "OSTELLO S.MARIA IN BETLEM PV",
          "OSTELLO CASTHELLO BS",
          "OSTELLO AL CURO' BG",
          "HOSTEL COLOURS MI",
          "OSTELLO DELLA GIOVENTU' CASA CORTI BG",
          "OSTELLO DI SARONNO VA",
          "THE MONASTERY HOSTEL RESORT MI",
          "OSTELLO MOLINO DI BASSO BG",
          "OSTELLO IL COLOMBEE LC",
          "LA SOSTA SOLIDALE MI",
          "OSTELLO CASA ROSSA VA"
         ],
         "type": "scattergeo"
        }
       ],
       "layout": {
        "geo": {
         "lakecolor": "blue",
         "landcolor": "rgb(212, 212, 212)",
         "resolution": 50,
         "rivercolor": "blue",
         "scope": "europe",
         "showcountries": true,
         "showlakes": true,
         "showland": true,
         "showrivers": true,
         "showsubunits": true
        },
        "template": {
         "data": {
          "bar": [
           {
            "error_x": {
             "color": "#2a3f5f"
            },
            "error_y": {
             "color": "#2a3f5f"
            },
            "marker": {
             "line": {
              "color": "#E5ECF6",
              "width": 0.5
             }
            },
            "type": "bar"
           }
          ],
          "barpolar": [
           {
            "marker": {
             "line": {
              "color": "#E5ECF6",
              "width": 0.5
             }
            },
            "type": "barpolar"
           }
          ],
          "carpet": [
           {
            "aaxis": {
             "endlinecolor": "#2a3f5f",
             "gridcolor": "white",
             "linecolor": "white",
             "minorgridcolor": "white",
             "startlinecolor": "#2a3f5f"
            },
            "baxis": {
             "endlinecolor": "#2a3f5f",
             "gridcolor": "white",
             "linecolor": "white",
             "minorgridcolor": "white",
             "startlinecolor": "#2a3f5f"
            },
            "type": "carpet"
           }
          ],
          "choropleth": [
           {
            "colorbar": {
             "outlinewidth": 0,
             "ticks": ""
            },
            "type": "choropleth"
           }
          ],
          "contour": [
           {
            "colorbar": {
             "outlinewidth": 0,
             "ticks": ""
            },
            "colorscale": [
             [
              0,
              "#0d0887"
             ],
             [
              0.1111111111111111,
              "#46039f"
             ],
             [
              0.2222222222222222,
              "#7201a8"
             ],
             [
              0.3333333333333333,
              "#9c179e"
             ],
             [
              0.4444444444444444,
              "#bd3786"
             ],
             [
              0.5555555555555556,
              "#d8576b"
             ],
             [
              0.6666666666666666,
              "#ed7953"
             ],
             [
              0.7777777777777778,
              "#fb9f3a"
             ],
             [
              0.8888888888888888,
              "#fdca26"
             ],
             [
              1,
              "#f0f921"
             ]
            ],
            "type": "contour"
           }
          ],
          "contourcarpet": [
           {
            "colorbar": {
             "outlinewidth": 0,
             "ticks": ""
            },
            "type": "contourcarpet"
           }
          ],
          "heatmap": [
           {
            "colorbar": {
             "outlinewidth": 0,
             "ticks": ""
            },
            "colorscale": [
             [
              0,
              "#0d0887"
             ],
             [
              0.1111111111111111,
              "#46039f"
             ],
             [
              0.2222222222222222,
              "#7201a8"
             ],
             [
              0.3333333333333333,
              "#9c179e"
             ],
             [
              0.4444444444444444,
              "#bd3786"
             ],
             [
              0.5555555555555556,
              "#d8576b"
             ],
             [
              0.6666666666666666,
              "#ed7953"
             ],
             [
              0.7777777777777778,
              "#fb9f3a"
             ],
             [
              0.8888888888888888,
              "#fdca26"
             ],
             [
              1,
              "#f0f921"
             ]
            ],
            "type": "heatmap"
           }
          ],
          "heatmapgl": [
           {
            "colorbar": {
             "outlinewidth": 0,
             "ticks": ""
            },
            "colorscale": [
             [
              0,
              "#0d0887"
             ],
             [
              0.1111111111111111,
              "#46039f"
             ],
             [
              0.2222222222222222,
              "#7201a8"
             ],
             [
              0.3333333333333333,
              "#9c179e"
             ],
             [
              0.4444444444444444,
              "#bd3786"
             ],
             [
              0.5555555555555556,
              "#d8576b"
             ],
             [
              0.6666666666666666,
              "#ed7953"
             ],
             [
              0.7777777777777778,
              "#fb9f3a"
             ],
             [
              0.8888888888888888,
              "#fdca26"
             ],
             [
              1,
              "#f0f921"
             ]
            ],
            "type": "heatmapgl"
           }
          ],
          "histogram": [
           {
            "marker": {
             "colorbar": {
              "outlinewidth": 0,
              "ticks": ""
             }
            },
            "type": "histogram"
           }
          ],
          "histogram2d": [
           {
            "colorbar": {
             "outlinewidth": 0,
             "ticks": ""
            },
            "colorscale": [
             [
              0,
              "#0d0887"
             ],
             [
              0.1111111111111111,
              "#46039f"
             ],
             [
              0.2222222222222222,
              "#7201a8"
             ],
             [
              0.3333333333333333,
              "#9c179e"
             ],
             [
              0.4444444444444444,
              "#bd3786"
             ],
             [
              0.5555555555555556,
              "#d8576b"
             ],
             [
              0.6666666666666666,
              "#ed7953"
             ],
             [
              0.7777777777777778,
              "#fb9f3a"
             ],
             [
              0.8888888888888888,
              "#fdca26"
             ],
             [
              1,
              "#f0f921"
             ]
            ],
            "type": "histogram2d"
           }
          ],
          "histogram2dcontour": [
           {
            "colorbar": {
             "outlinewidth": 0,
             "ticks": ""
            },
            "colorscale": [
             [
              0,
              "#0d0887"
             ],
             [
              0.1111111111111111,
              "#46039f"
             ],
             [
              0.2222222222222222,
              "#7201a8"
             ],
             [
              0.3333333333333333,
              "#9c179e"
             ],
             [
              0.4444444444444444,
              "#bd3786"
             ],
             [
              0.5555555555555556,
              "#d8576b"
             ],
             [
              0.6666666666666666,
              "#ed7953"
             ],
             [
              0.7777777777777778,
              "#fb9f3a"
             ],
             [
              0.8888888888888888,
              "#fdca26"
             ],
             [
              1,
              "#f0f921"
             ]
            ],
            "type": "histogram2dcontour"
           }
          ],
          "mesh3d": [
           {
            "colorbar": {
             "outlinewidth": 0,
             "ticks": ""
            },
            "type": "mesh3d"
           }
          ],
          "parcoords": [
           {
            "line": {
             "colorbar": {
              "outlinewidth": 0,
              "ticks": ""
             }
            },
            "type": "parcoords"
           }
          ],
          "pie": [
           {
            "automargin": true,
            "type": "pie"
           }
          ],
          "scatter": [
           {
            "marker": {
             "colorbar": {
              "outlinewidth": 0,
              "ticks": ""
             }
            },
            "type": "scatter"
           }
          ],
          "scatter3d": [
           {
            "line": {
             "colorbar": {
              "outlinewidth": 0,
              "ticks": ""
             }
            },
            "marker": {
             "colorbar": {
              "outlinewidth": 0,
              "ticks": ""
             }
            },
            "type": "scatter3d"
           }
          ],
          "scattercarpet": [
           {
            "marker": {
             "colorbar": {
              "outlinewidth": 0,
              "ticks": ""
             }
            },
            "type": "scattercarpet"
           }
          ],
          "scattergeo": [
           {
            "marker": {
             "colorbar": {
              "outlinewidth": 0,
              "ticks": ""
             }
            },
            "type": "scattergeo"
           }
          ],
          "scattergl": [
           {
            "marker": {
             "colorbar": {
              "outlinewidth": 0,
              "ticks": ""
             }
            },
            "type": "scattergl"
           }
          ],
          "scattermapbox": [
           {
            "marker": {
             "colorbar": {
              "outlinewidth": 0,
              "ticks": ""
             }
            },
            "type": "scattermapbox"
           }
          ],
          "scatterpolar": [
           {
            "marker": {
             "colorbar": {
              "outlinewidth": 0,
              "ticks": ""
             }
            },
            "type": "scatterpolar"
           }
          ],
          "scatterpolargl": [
           {
            "marker": {
             "colorbar": {
              "outlinewidth": 0,
              "ticks": ""
             }
            },
            "type": "scatterpolargl"
           }
          ],
          "scatterternary": [
           {
            "marker": {
             "colorbar": {
              "outlinewidth": 0,
              "ticks": ""
             }
            },
            "type": "scatterternary"
           }
          ],
          "surface": [
           {
            "colorbar": {
             "outlinewidth": 0,
             "ticks": ""
            },
            "colorscale": [
             [
              0,
              "#0d0887"
             ],
             [
              0.1111111111111111,
              "#46039f"
             ],
             [
              0.2222222222222222,
              "#7201a8"
             ],
             [
              0.3333333333333333,
              "#9c179e"
             ],
             [
              0.4444444444444444,
              "#bd3786"
             ],
             [
              0.5555555555555556,
              "#d8576b"
             ],
             [
              0.6666666666666666,
              "#ed7953"
             ],
             [
              0.7777777777777778,
              "#fb9f3a"
             ],
             [
              0.8888888888888888,
              "#fdca26"
             ],
             [
              1,
              "#f0f921"
             ]
            ],
            "type": "surface"
           }
          ],
          "table": [
           {
            "cells": {
             "fill": {
              "color": "#EBF0F8"
             },
             "line": {
              "color": "white"
             }
            },
            "header": {
             "fill": {
              "color": "#C8D4E3"
             },
             "line": {
              "color": "white"
             }
            },
            "type": "table"
           }
          ]
         },
         "layout": {
          "annotationdefaults": {
           "arrowcolor": "#2a3f5f",
           "arrowhead": 0,
           "arrowwidth": 1
          },
          "coloraxis": {
           "colorbar": {
            "outlinewidth": 0,
            "ticks": ""
           }
          },
          "colorscale": {
           "diverging": [
            [
             0,
             "#8e0152"
            ],
            [
             0.1,
             "#c51b7d"
            ],
            [
             0.2,
             "#de77ae"
            ],
            [
             0.3,
             "#f1b6da"
            ],
            [
             0.4,
             "#fde0ef"
            ],
            [
             0.5,
             "#f7f7f7"
            ],
            [
             0.6,
             "#e6f5d0"
            ],
            [
             0.7,
             "#b8e186"
            ],
            [
             0.8,
             "#7fbc41"
            ],
            [
             0.9,
             "#4d9221"
            ],
            [
             1,
             "#276419"
            ]
           ],
           "sequential": [
            [
             0,
             "#0d0887"
            ],
            [
             0.1111111111111111,
             "#46039f"
            ],
            [
             0.2222222222222222,
             "#7201a8"
            ],
            [
             0.3333333333333333,
             "#9c179e"
            ],
            [
             0.4444444444444444,
             "#bd3786"
            ],
            [
             0.5555555555555556,
             "#d8576b"
            ],
            [
             0.6666666666666666,
             "#ed7953"
            ],
            [
             0.7777777777777778,
             "#fb9f3a"
            ],
            [
             0.8888888888888888,
             "#fdca26"
            ],
            [
             1,
             "#f0f921"
            ]
           ],
           "sequentialminus": [
            [
             0,
             "#0d0887"
            ],
            [
             0.1111111111111111,
             "#46039f"
            ],
            [
             0.2222222222222222,
             "#7201a8"
            ],
            [
             0.3333333333333333,
             "#9c179e"
            ],
            [
             0.4444444444444444,
             "#bd3786"
            ],
            [
             0.5555555555555556,
             "#d8576b"
            ],
            [
             0.6666666666666666,
             "#ed7953"
            ],
            [
             0.7777777777777778,
             "#fb9f3a"
            ],
            [
             0.8888888888888888,
             "#fdca26"
            ],
            [
             1,
             "#f0f921"
            ]
           ]
          },
          "colorway": [
           "#636efa",
           "#EF553B",
           "#00cc96",
           "#ab63fa",
           "#FFA15A",
           "#19d3f3",
           "#FF6692",
           "#B6E880",
           "#FF97FF",
           "#FECB52"
          ],
          "font": {
           "color": "#2a3f5f"
          },
          "geo": {
           "bgcolor": "white",
           "lakecolor": "white",
           "landcolor": "#E5ECF6",
           "showlakes": true,
           "showland": true,
           "subunitcolor": "white"
          },
          "hoverlabel": {
           "align": "left"
          },
          "hovermode": "closest",
          "mapbox": {
           "style": "light"
          },
          "paper_bgcolor": "white",
          "plot_bgcolor": "#E5ECF6",
          "polar": {
           "angularaxis": {
            "gridcolor": "white",
            "linecolor": "white",
            "ticks": ""
           },
           "bgcolor": "#E5ECF6",
           "radialaxis": {
            "gridcolor": "white",
            "linecolor": "white",
            "ticks": ""
           }
          },
          "scene": {
           "xaxis": {
            "backgroundcolor": "#E5ECF6",
            "gridcolor": "white",
            "gridwidth": 2,
            "linecolor": "white",
            "showbackground": true,
            "ticks": "",
            "zerolinecolor": "white"
           },
           "yaxis": {
            "backgroundcolor": "#E5ECF6",
            "gridcolor": "white",
            "gridwidth": 2,
            "linecolor": "white",
            "showbackground": true,
            "ticks": "",
            "zerolinecolor": "white"
           },
           "zaxis": {
            "backgroundcolor": "#E5ECF6",
            "gridcolor": "white",
            "gridwidth": 2,
            "linecolor": "white",
            "showbackground": true,
            "ticks": "",
            "zerolinecolor": "white"
           }
          },
          "shapedefaults": {
           "line": {
            "color": "#2a3f5f"
           }
          },
          "ternary": {
           "aaxis": {
            "gridcolor": "white",
            "linecolor": "white",
            "ticks": ""
           },
           "baxis": {
            "gridcolor": "white",
            "linecolor": "white",
            "ticks": ""
           },
           "bgcolor": "#E5ECF6",
           "caxis": {
            "gridcolor": "white",
            "linecolor": "white",
            "ticks": ""
           }
          },
          "title": {
           "x": 0.05
          },
          "xaxis": {
           "automargin": true,
           "gridcolor": "white",
           "linecolor": "white",
           "ticks": "",
           "title": {
            "standoff": 15
           },
           "zerolinecolor": "white",
           "zerolinewidth": 2
          },
          "yaxis": {
           "automargin": true,
           "gridcolor": "white",
           "linecolor": "white",
           "ticks": "",
           "title": {
            "standoff": 15
           },
           "zerolinecolor": "white",
           "zerolinewidth": 2
          }
         }
        },
        "title": {
         "text": "Ostelli in Lombardia"
        }
       }
      },
      "text/html": [
       "<div>\n",
       "        \n",
       "        \n",
       "            <div id=\"09317bc8-916e-432e-9ee1-6db8e0959472\" class=\"plotly-graph-div\" style=\"height:525px; width:100%;\"></div>\n",
       "            <script type=\"text/javascript\">\n",
       "                require([\"plotly\"], function(Plotly) {\n",
       "                    window.PLOTLYENV=window.PLOTLYENV || {};\n",
       "                    \n",
       "                if (document.getElementById(\"09317bc8-916e-432e-9ee1-6db8e0959472\")) {\n",
       "                    Plotly.newPlot(\n",
       "                        '09317bc8-916e-432e-9ee1-6db8e0959472',\n",
       "                        [{\"lat\": [45.69241781, 45.89579042, 45.71823212, 45.229448, 45.04373428, 46.3179855, 46.01726456, 45.84842038, 46.16088921, 45.0577847, 45.45817144, 45.77658405, 45.831348999999996, 46.2238894, 45.084265, 45.80996711, 46.2411338, 45.974453000000004, 45.19411109, 45.11339093, 45.17873414, 45.80219116, 46.009774, 46.02900705, 46.02285209, 45.13780292, 45.61032825, 45.71823212, 46.01381649, 45.49044089, 45.11300482, 45.797415, 45.46049737, 44.986382, 45.45134612, 45.755466, 44.97756479, 45.82620399, 45.98363361, 45.79770509, 46.07966811, 45.20927566, 45.675733, 45.82604502, 44.85945144, 44.95397494, 45.54163, 45.453382, 45.92408134, 45.48363879, 45.691233685, 45.79078469, 45.5901821, 44.92298376, 45.76051793, 45.48453924, 45.177495, 45.940189200000006, 46.036676, 45.46819153, 46.03035689, 45.61426135, 45.47547445, 45.4480398, 45.70218121, 45.52976603, 45.914279], \"lon\": [9.66998856, 10.14724351, 9.68623663, 9.275257, 10.48414385, 9.40196426, 10.32598883, 8.66659733, 9.64081873, 10.23251133, 9.20489762, 8.82101131, 9.371482, 10.205374, 10.955838, 10.06872765, 10.40632448, 10.081010000000001, 9.51814597, 9.34868396, 10.68143887, 9.36189552, 10.155669, 10.37112056, 10.01519943, 10.03163573, 10.39838482, 9.68623663, 9.23655231, 9.17134008, 9.43819462, 9.16762, 9.1814944, 9.00851623, 9.21131556, 9.691187, 10.64282123, 9.0491086, 9.5351587, 9.41452876, 10.37044317, 9.0186246, 9.664381, 9.53533182, 9.31527885, 10.82159449, 10.219934, 9.184457, 9.972031800000002, 9.14026188, 9.846028302999999, 9.08510896, 9.28669585, 10.524294900000001, 10.74558601, 9.16285043, 9.151126, 10.32402367, 10.013453, 9.15933654, 9.99198603, 9.02329996, 9.19171014, 9.88015776, 9.37300485, 9.17003112, 8.617808], \"marker\": {\"color\": \"red\"}, \"mode\": \"markers\", \"text\": [\"CENTRAL HOSTEL BG BG\", \"ANGOLO DA SCOPRIRE BS\", \"OSTELLO DELLA GIOVENTU' BS\", \"OSTELLO SAN GIOVANNI BOSCO PV\", \"OSTELLO BREDA CR\", \"OSTELLO AL DESERTO SO\", \"OSTELLO CONCARENA BS\", \"OSTELLO DI BESOZZO VA\", \"OSTELLO COI BAFFI SO\", \"OSTELLO LA CANONICA CR\", \"ZEBRA HOSTEL MI\", \"OSTELLO SACROMONTE VA\", \"OSTELLO PARCO MONTE BARRO LC\", \"IL SEICENTO SO\", \"OSTELLO DEI CONCARI MN\", \"OSTELLO DEL PORTO BG\", \"CASA DEL PARCO DELL'ADAMELLO BS\", \"OSTELLO 4 MATTE BG\", \"OSTELLO DI BORGHETTO LO\", \"OSTELLO ARTEMISTA PV\", \"OSTELLO DEL MINCIO MN\", \"OSTELLO RESIDENZA MOLINATTO LC\", \"OLIMPIC HOSTEL BG\", \"OSTELLO DEL PITTORE BS\", \"OSTELLO LA POSTA BG\", \"L'ARCHETTO CR\", \"OSTELLO ALLA SORGENTE BS\", \"OSTELLO DELLA GIOVENTU' BG\", \"OSTELLO LA PRIMULA CO\", \"NEW MOON RESORT MI\", \"OSTELLO IL MORONE PV\", \"OSTELLO DI ALBESE CO\", \"OSTELLO BELLO MI\", \"OSTELLO DELLA GIOVENTU' ADOLESCERE PV\", \"OSTELLO CUCCAGNA MI\", \"OSTELLO OLERA BG\", \"OSTELLO ORIZZONTI VERDI MN\", \"OSTELLO VILLA OLMO CO\", \"OSTELLO RIFUGIO TRIFOGLIO BG\", \"OSTELLO SAN MARTINO LC\", \"OSTELLO CASA DEL PARCO BS\", \"OSTELLO CASCINA VENARA PV\", \"SAN SISTO HOSTEL BG\", \"OSTELLO IL SENTIERO BG\", \"LA PENICINA PV\", \"OSTELLO CA'MALEONTE MN\", \"LOCANDA DEGLI ACROBATI BS\", \"OSTELLO BURIGOZZO11 MI\", \"OSTELLO BAITA VALLE AZZURRA BG\", \"OSTELLO AIG PIERO ROTTA MI\", \"OSTELLO DELLE TRE CORONE BG\", \"OSTELLO RESPAU' CO\", \"OSTELLO S. MARIA DELLE GRAZIE MB\", \"OSTELLO BORTOLINO MN\", \"UNIVERSITA' DELLA VELA BS\", \"GOGOL OSTELLO MI\", \"OSTELLO S.MARIA IN BETLEM PV\", \"OSTELLO CASTHELLO BS\", \"OSTELLO AL CURO' BG\", \"HOSTEL COLOURS MI\", \"OSTELLO DELLA GIOVENTU' CASA CORTI BG\", \"OSTELLO DI SARONNO VA\", \"THE MONASTERY HOSTEL RESORT MI\", \"OSTELLO MOLINO DI BASSO BG\", \"OSTELLO IL COLOMBEE LC\", \"LA SOSTA SOLIDALE MI\", \"OSTELLO CASA ROSSA VA\"], \"type\": \"scattergeo\"}],\n",
       "                        {\"geo\": {\"lakecolor\": \"blue\", \"landcolor\": \"rgb(212, 212, 212)\", \"resolution\": 50, \"rivercolor\": \"blue\", \"scope\": \"europe\", \"showcountries\": true, \"showlakes\": true, \"showland\": true, \"showrivers\": true, \"showsubunits\": true}, \"template\": {\"data\": {\"bar\": [{\"error_x\": {\"color\": \"#2a3f5f\"}, \"error_y\": {\"color\": \"#2a3f5f\"}, \"marker\": {\"line\": {\"color\": \"#E5ECF6\", \"width\": 0.5}}, \"type\": \"bar\"}], \"barpolar\": [{\"marker\": {\"line\": {\"color\": \"#E5ECF6\", \"width\": 0.5}}, \"type\": \"barpolar\"}], \"carpet\": [{\"aaxis\": {\"endlinecolor\": \"#2a3f5f\", \"gridcolor\": \"white\", \"linecolor\": \"white\", \"minorgridcolor\": \"white\", \"startlinecolor\": \"#2a3f5f\"}, \"baxis\": {\"endlinecolor\": \"#2a3f5f\", \"gridcolor\": \"white\", \"linecolor\": \"white\", \"minorgridcolor\": \"white\", \"startlinecolor\": \"#2a3f5f\"}, \"type\": \"carpet\"}], \"choropleth\": [{\"colorbar\": {\"outlinewidth\": 0, \"ticks\": \"\"}, \"type\": \"choropleth\"}], \"contour\": [{\"colorbar\": {\"outlinewidth\": 0, \"ticks\": \"\"}, \"colorscale\": [[0.0, \"#0d0887\"], [0.1111111111111111, \"#46039f\"], [0.2222222222222222, \"#7201a8\"], [0.3333333333333333, \"#9c179e\"], [0.4444444444444444, \"#bd3786\"], [0.5555555555555556, \"#d8576b\"], [0.6666666666666666, \"#ed7953\"], [0.7777777777777778, \"#fb9f3a\"], [0.8888888888888888, \"#fdca26\"], [1.0, \"#f0f921\"]], \"type\": \"contour\"}], \"contourcarpet\": [{\"colorbar\": {\"outlinewidth\": 0, \"ticks\": \"\"}, \"type\": \"contourcarpet\"}], \"heatmap\": [{\"colorbar\": {\"outlinewidth\": 0, \"ticks\": \"\"}, \"colorscale\": [[0.0, \"#0d0887\"], [0.1111111111111111, \"#46039f\"], [0.2222222222222222, \"#7201a8\"], [0.3333333333333333, \"#9c179e\"], [0.4444444444444444, \"#bd3786\"], [0.5555555555555556, \"#d8576b\"], [0.6666666666666666, \"#ed7953\"], [0.7777777777777778, \"#fb9f3a\"], [0.8888888888888888, \"#fdca26\"], [1.0, \"#f0f921\"]], \"type\": \"heatmap\"}], \"heatmapgl\": [{\"colorbar\": {\"outlinewidth\": 0, \"ticks\": \"\"}, \"colorscale\": [[0.0, \"#0d0887\"], [0.1111111111111111, \"#46039f\"], [0.2222222222222222, \"#7201a8\"], [0.3333333333333333, \"#9c179e\"], [0.4444444444444444, \"#bd3786\"], [0.5555555555555556, \"#d8576b\"], [0.6666666666666666, \"#ed7953\"], [0.7777777777777778, \"#fb9f3a\"], [0.8888888888888888, \"#fdca26\"], [1.0, \"#f0f921\"]], \"type\": \"heatmapgl\"}], \"histogram\": [{\"marker\": {\"colorbar\": {\"outlinewidth\": 0, \"ticks\": \"\"}}, \"type\": \"histogram\"}], \"histogram2d\": [{\"colorbar\": {\"outlinewidth\": 0, \"ticks\": \"\"}, \"colorscale\": [[0.0, \"#0d0887\"], [0.1111111111111111, \"#46039f\"], [0.2222222222222222, \"#7201a8\"], [0.3333333333333333, \"#9c179e\"], [0.4444444444444444, \"#bd3786\"], [0.5555555555555556, \"#d8576b\"], [0.6666666666666666, \"#ed7953\"], [0.7777777777777778, \"#fb9f3a\"], [0.8888888888888888, \"#fdca26\"], [1.0, \"#f0f921\"]], \"type\": \"histogram2d\"}], \"histogram2dcontour\": [{\"colorbar\": {\"outlinewidth\": 0, \"ticks\": \"\"}, \"colorscale\": [[0.0, \"#0d0887\"], [0.1111111111111111, \"#46039f\"], [0.2222222222222222, \"#7201a8\"], [0.3333333333333333, \"#9c179e\"], [0.4444444444444444, \"#bd3786\"], [0.5555555555555556, \"#d8576b\"], [0.6666666666666666, \"#ed7953\"], [0.7777777777777778, \"#fb9f3a\"], [0.8888888888888888, \"#fdca26\"], [1.0, \"#f0f921\"]], \"type\": \"histogram2dcontour\"}], \"mesh3d\": [{\"colorbar\": {\"outlinewidth\": 0, \"ticks\": \"\"}, \"type\": \"mesh3d\"}], \"parcoords\": [{\"line\": {\"colorbar\": {\"outlinewidth\": 0, \"ticks\": \"\"}}, \"type\": \"parcoords\"}], \"pie\": [{\"automargin\": true, \"type\": \"pie\"}], \"scatter\": [{\"marker\": {\"colorbar\": {\"outlinewidth\": 0, \"ticks\": \"\"}}, \"type\": \"scatter\"}], \"scatter3d\": [{\"line\": {\"colorbar\": {\"outlinewidth\": 0, \"ticks\": \"\"}}, \"marker\": {\"colorbar\": {\"outlinewidth\": 0, \"ticks\": \"\"}}, \"type\": \"scatter3d\"}], \"scattercarpet\": [{\"marker\": {\"colorbar\": {\"outlinewidth\": 0, \"ticks\": \"\"}}, \"type\": \"scattercarpet\"}], \"scattergeo\": [{\"marker\": {\"colorbar\": {\"outlinewidth\": 0, \"ticks\": \"\"}}, \"type\": \"scattergeo\"}], \"scattergl\": [{\"marker\": {\"colorbar\": {\"outlinewidth\": 0, \"ticks\": \"\"}}, \"type\": \"scattergl\"}], \"scattermapbox\": [{\"marker\": {\"colorbar\": {\"outlinewidth\": 0, \"ticks\": \"\"}}, \"type\": \"scattermapbox\"}], \"scatterpolar\": [{\"marker\": {\"colorbar\": {\"outlinewidth\": 0, \"ticks\": \"\"}}, \"type\": \"scatterpolar\"}], \"scatterpolargl\": [{\"marker\": {\"colorbar\": {\"outlinewidth\": 0, \"ticks\": \"\"}}, \"type\": \"scatterpolargl\"}], \"scatterternary\": [{\"marker\": {\"colorbar\": {\"outlinewidth\": 0, \"ticks\": \"\"}}, \"type\": \"scatterternary\"}], \"surface\": [{\"colorbar\": {\"outlinewidth\": 0, \"ticks\": \"\"}, \"colorscale\": [[0.0, \"#0d0887\"], [0.1111111111111111, \"#46039f\"], [0.2222222222222222, \"#7201a8\"], [0.3333333333333333, \"#9c179e\"], [0.4444444444444444, \"#bd3786\"], [0.5555555555555556, \"#d8576b\"], [0.6666666666666666, \"#ed7953\"], [0.7777777777777778, \"#fb9f3a\"], [0.8888888888888888, \"#fdca26\"], [1.0, \"#f0f921\"]], \"type\": \"surface\"}], \"table\": [{\"cells\": {\"fill\": {\"color\": \"#EBF0F8\"}, \"line\": {\"color\": \"white\"}}, \"header\": {\"fill\": {\"color\": \"#C8D4E3\"}, \"line\": {\"color\": \"white\"}}, \"type\": \"table\"}]}, \"layout\": {\"annotationdefaults\": {\"arrowcolor\": \"#2a3f5f\", \"arrowhead\": 0, \"arrowwidth\": 1}, \"coloraxis\": {\"colorbar\": {\"outlinewidth\": 0, \"ticks\": \"\"}}, \"colorscale\": {\"diverging\": [[0, \"#8e0152\"], [0.1, \"#c51b7d\"], [0.2, \"#de77ae\"], [0.3, \"#f1b6da\"], [0.4, \"#fde0ef\"], [0.5, \"#f7f7f7\"], [0.6, \"#e6f5d0\"], [0.7, \"#b8e186\"], [0.8, \"#7fbc41\"], [0.9, \"#4d9221\"], [1, \"#276419\"]], \"sequential\": [[0.0, \"#0d0887\"], [0.1111111111111111, \"#46039f\"], [0.2222222222222222, \"#7201a8\"], [0.3333333333333333, \"#9c179e\"], [0.4444444444444444, \"#bd3786\"], [0.5555555555555556, \"#d8576b\"], [0.6666666666666666, \"#ed7953\"], [0.7777777777777778, \"#fb9f3a\"], [0.8888888888888888, \"#fdca26\"], [1.0, \"#f0f921\"]], \"sequentialminus\": [[0.0, \"#0d0887\"], [0.1111111111111111, \"#46039f\"], [0.2222222222222222, \"#7201a8\"], [0.3333333333333333, \"#9c179e\"], [0.4444444444444444, \"#bd3786\"], [0.5555555555555556, \"#d8576b\"], [0.6666666666666666, \"#ed7953\"], [0.7777777777777778, \"#fb9f3a\"], [0.8888888888888888, \"#fdca26\"], [1.0, \"#f0f921\"]]}, \"colorway\": [\"#636efa\", \"#EF553B\", \"#00cc96\", \"#ab63fa\", \"#FFA15A\", \"#19d3f3\", \"#FF6692\", \"#B6E880\", \"#FF97FF\", \"#FECB52\"], \"font\": {\"color\": \"#2a3f5f\"}, \"geo\": {\"bgcolor\": \"white\", \"lakecolor\": \"white\", \"landcolor\": \"#E5ECF6\", \"showlakes\": true, \"showland\": true, \"subunitcolor\": \"white\"}, \"hoverlabel\": {\"align\": \"left\"}, \"hovermode\": \"closest\", \"mapbox\": {\"style\": \"light\"}, \"paper_bgcolor\": \"white\", \"plot_bgcolor\": \"#E5ECF6\", \"polar\": {\"angularaxis\": {\"gridcolor\": \"white\", \"linecolor\": \"white\", \"ticks\": \"\"}, \"bgcolor\": \"#E5ECF6\", \"radialaxis\": {\"gridcolor\": \"white\", \"linecolor\": \"white\", \"ticks\": \"\"}}, \"scene\": {\"xaxis\": {\"backgroundcolor\": \"#E5ECF6\", \"gridcolor\": \"white\", \"gridwidth\": 2, \"linecolor\": \"white\", \"showbackground\": true, \"ticks\": \"\", \"zerolinecolor\": \"white\"}, \"yaxis\": {\"backgroundcolor\": \"#E5ECF6\", \"gridcolor\": \"white\", \"gridwidth\": 2, \"linecolor\": \"white\", \"showbackground\": true, \"ticks\": \"\", \"zerolinecolor\": \"white\"}, \"zaxis\": {\"backgroundcolor\": \"#E5ECF6\", \"gridcolor\": \"white\", \"gridwidth\": 2, \"linecolor\": \"white\", \"showbackground\": true, \"ticks\": \"\", \"zerolinecolor\": \"white\"}}, \"shapedefaults\": {\"line\": {\"color\": \"#2a3f5f\"}}, \"ternary\": {\"aaxis\": {\"gridcolor\": \"white\", \"linecolor\": \"white\", \"ticks\": \"\"}, \"baxis\": {\"gridcolor\": \"white\", \"linecolor\": \"white\", \"ticks\": \"\"}, \"bgcolor\": \"#E5ECF6\", \"caxis\": {\"gridcolor\": \"white\", \"linecolor\": \"white\", \"ticks\": \"\"}}, \"title\": {\"x\": 0.05}, \"xaxis\": {\"automargin\": true, \"gridcolor\": \"white\", \"linecolor\": \"white\", \"ticks\": \"\", \"title\": {\"standoff\": 15}, \"zerolinecolor\": \"white\", \"zerolinewidth\": 2}, \"yaxis\": {\"automargin\": true, \"gridcolor\": \"white\", \"linecolor\": \"white\", \"ticks\": \"\", \"title\": {\"standoff\": 15}, \"zerolinecolor\": \"white\", \"zerolinewidth\": 2}}}, \"title\": {\"text\": \"Ostelli in Lombardia\"}},\n",
       "                        {\"responsive\": true}\n",
       "                    ).then(function(){\n",
       "                            \n",
       "var gd = document.getElementById('09317bc8-916e-432e-9ee1-6db8e0959472');\n",
       "var x = new MutationObserver(function (mutations, observer) {{\n",
       "        var display = window.getComputedStyle(gd).display;\n",
       "        if (!display || display === 'none') {{\n",
       "            console.log([gd, 'removed!']);\n",
       "            Plotly.purge(gd);\n",
       "            observer.disconnect();\n",
       "        }}\n",
       "}});\n",
       "\n",
       "// Listen for the removal of the full notebook cells\n",
       "var notebookContainer = gd.closest('#notebook-container');\n",
       "if (notebookContainer) {{\n",
       "    x.observe(notebookContainer, {childList: true});\n",
       "}}\n",
       "\n",
       "// Listen for the clearing of the current output cell\n",
       "var outputEl = gd.closest('.output');\n",
       "if (outputEl) {{\n",
       "    x.observe(outputEl, {childList: true});\n",
       "}}\n",
       "\n",
       "                        })\n",
       "                };\n",
       "                });\n",
       "            </script>\n",
       "        </div>"
      ]
     },
     "metadata": {},
     "output_type": "display_data"
    }
   ],
   "source": [
    "df['text'] = df['denominazione'] + ' ' + df['prov'] \n",
    "\n",
    "fig = go.Figure(data=go.Scattergeo(\n",
    "        lon = df['lng'],\n",
    "        lat = df['lat'],\n",
    "        text = df['text'],\n",
    "        mode = 'markers',\n",
    "        marker_color = 'red',\n",
    "        ))\n",
    "\n",
    "#fig.add_trace(px.line_geo(lat=[45.40], lon=[9.30]))\n",
    "\n",
    "fig.update_layout(\n",
    "        title = 'Ostelli in Lombardia',\n",
    "        geo = dict(\n",
    "            scope = 'europe',\n",
    "            showland = True,\n",
    "            landcolor = \"rgb(212, 212, 212)\",\n",
    "            showlakes = True,\n",
    "            lakecolor = \"blue\",\n",
    "            showrivers = True,\n",
    "            rivercolor = \"blue\",\n",
    "            showsubunits = True,\n",
    "            showcountries = True,\n",
    "            resolution = 50,\n",
    "          \n",
    "    ))\n",
    "\n",
    "fig.show()\n"
   ]
  },
  {
   "cell_type": "code",
   "execution_count": null,
   "metadata": {},
   "outputs": [],
   "source": []
  }
 ],
 "metadata": {
  "kernelspec": {
   "display_name": "Python 3",
   "language": "python",
   "name": "python3"
  },
  "language_info": {
   "codemirror_mode": {
    "name": "ipython",
    "version": 3
   },
   "file_extension": ".py",
   "mimetype": "text/x-python",
   "name": "python",
   "nbconvert_exporter": "python",
   "pygments_lexer": "ipython3",
   "version": "3.7.6"
  }
 },
 "nbformat": 4,
 "nbformat_minor": 4
}
